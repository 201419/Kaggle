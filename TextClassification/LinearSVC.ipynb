{
 "cells": [
  {
   "cell_type": "code",
   "execution_count": 1,
   "metadata": {
    "pycharm": {
     "is_executing": false
    }
   },
   "outputs": [],
   "source": [
    "# -*- encoding:utf-8 -*-\n",
    "from sklearn.feature_extraction.text import TfidfVectorizer as TFIDF\n",
    "from sklearn.svm import LinearSVC\n",
    "from sklearn.calibration import CalibratedClassifierCV\n",
    "from sklearn.externals import joblib\n",
    "import pickle\n",
    "import pandas as pd"
   ]
  },
  {
   "cell_type": "markdown",
   "metadata": {
    "pycharm": {}
   },
   "source": [
    "## 训练集"
   ]
  },
  {
   "cell_type": "code",
   "execution_count": 2,
   "metadata": {
    "pycharm": {}
   },
   "outputs": [
    {
     "data": {
      "text/html": [
       "<div>\n",
       "<style scoped>\n",
       "    .dataframe tbody tr th:only-of-type {\n",
       "        vertical-align: middle;\n",
       "    }\n",
       "\n",
       "    .dataframe tbody tr th {\n",
       "        vertical-align: top;\n",
       "    }\n",
       "\n",
       "    .dataframe thead th {\n",
       "        text-align: right;\n",
       "    }\n",
       "</style>\n",
       "<table border=\"1\" class=\"dataframe\">\n",
       "  <thead>\n",
       "    <tr style=\"text-align: right;\">\n",
       "      <th></th>\n",
       "      <th>ID</th>\n",
       "      <th>review</th>\n",
       "      <th>label</th>\n",
       "    </tr>\n",
       "  </thead>\n",
       "  <tbody>\n",
       "    <tr>\n",
       "      <th>0</th>\n",
       "      <td>1</td>\n",
       "      <td>Jo bhi ap se tou behtar hoon</td>\n",
       "      <td>Negative</td>\n",
       "    </tr>\n",
       "    <tr>\n",
       "      <th>1</th>\n",
       "      <td>2</td>\n",
       "      <td>ya Allah meri sister Affia ki madad farma</td>\n",
       "      <td>Positive</td>\n",
       "    </tr>\n",
       "    <tr>\n",
       "      <th>2</th>\n",
       "      <td>3</td>\n",
       "      <td>Yeh khud chahta a is umar main shadi krna.  ha...</td>\n",
       "      <td>Negative</td>\n",
       "    </tr>\n",
       "    <tr>\n",
       "      <th>3</th>\n",
       "      <td>4</td>\n",
       "      <td>Tc ? Apky mun xe exe alfax achy nae lgty 😒💃</td>\n",
       "      <td>Negative</td>\n",
       "    </tr>\n",
       "    <tr>\n",
       "      <th>4</th>\n",
       "      <td>5</td>\n",
       "      <td>Good</td>\n",
       "      <td>Positive</td>\n",
       "    </tr>\n",
       "  </tbody>\n",
       "</table>\n",
       "</div>"
      ],
      "text/plain": [
       "   ID                                             review     label\n",
       "0   1                       Jo bhi ap se tou behtar hoon  Negative\n",
       "1   2          ya Allah meri sister Affia ki madad farma  Positive\n",
       "2   3  Yeh khud chahta a is umar main shadi krna.  ha...  Negative\n",
       "3   4        Tc ? Apky mun xe exe alfax achy nae lgty 😒💃  Negative\n",
       "4   5                                               Good  Positive"
      ]
     },
     "execution_count": 2,
     "metadata": {},
     "output_type": "execute_result"
    }
   ],
   "source": [
    "df = pd.read_csv('./kesci/train.csv', lineterminator='\\n')\n",
    "df.head()"
   ]
  },
  {
   "cell_type": "code",
   "execution_count": 3,
   "metadata": {
    "pycharm": {}
   },
   "outputs": [
    {
     "name": "stdout",
     "output_type": "stream",
     "text": [
      "6328\n"
     ]
    },
    {
     "data": {
      "text/plain": [
       "pandas.core.series.Series"
      ]
     },
     "execution_count": 3,
     "metadata": {},
     "output_type": "execute_result"
    }
   ],
   "source": [
    "print(len(df['label']))\n",
    "type(df['label'])"
   ]
  },
  {
   "cell_type": "code",
   "execution_count": 4,
   "metadata": {
    "pycharm": {}
   },
   "outputs": [
    {
     "name": "stdout",
     "output_type": "stream",
     "text": [
      "Positive:  3361\n",
      "Negative:  2967\n"
     ]
    }
   ],
   "source": [
    "print('Positive: ', len(df[df['label']=='Positive']))\n",
    "print('Negative: ', len(df[df['label']=='Negative']))"
   ]
  },
  {
   "cell_type": "markdown",
   "metadata": {
    "pycharm": {}
   },
   "source": [
    "## 测试集"
   ]
  },
  {
   "cell_type": "code",
   "execution_count": 5,
   "metadata": {
    "pycharm": {}
   },
   "outputs": [
    {
     "name": "stdout",
     "output_type": "stream",
     "text": [
      "2712\n"
     ]
    },
    {
     "data": {
      "text/html": [
       "<div>\n",
       "<style scoped>\n",
       "    .dataframe tbody tr th:only-of-type {\n",
       "        vertical-align: middle;\n",
       "    }\n",
       "\n",
       "    .dataframe tbody tr th {\n",
       "        vertical-align: top;\n",
       "    }\n",
       "\n",
       "    .dataframe thead th {\n",
       "        text-align: right;\n",
       "    }\n",
       "</style>\n",
       "<table border=\"1\" class=\"dataframe\">\n",
       "  <thead>\n",
       "    <tr style=\"text-align: right;\">\n",
       "      <th></th>\n",
       "      <th>ID</th>\n",
       "      <th>review</th>\n",
       "    </tr>\n",
       "  </thead>\n",
       "  <tbody>\n",
       "    <tr>\n",
       "      <th>0</th>\n",
       "      <td>1</td>\n",
       "      <td>Hum logo ny 70 salo ma itna loan ni lia jitna ...</td>\n",
       "    </tr>\n",
       "    <tr>\n",
       "      <th>1</th>\n",
       "      <td>2</td>\n",
       "      <td>Us dor ke mushahir ke sath us ke gehre taluqat...</td>\n",
       "    </tr>\n",
       "    <tr>\n",
       "      <th>2</th>\n",
       "      <td>3</td>\n",
       "      <td>Is ke ilawa ap ki nazmon, geeton aur ghazlon ...</td>\n",
       "    </tr>\n",
       "    <tr>\n",
       "      <th>3</th>\n",
       "      <td>4</td>\n",
       "      <td>Iss mein koi burai nahi</td>\n",
       "    </tr>\n",
       "    <tr>\n",
       "      <th>4</th>\n",
       "      <td>5</td>\n",
       "      <td>Iss ke baad azadi ki jaddojehad mein congress...</td>\n",
       "    </tr>\n",
       "  </tbody>\n",
       "</table>\n",
       "</div>"
      ],
      "text/plain": [
       "   ID                                             review\n",
       "0   1  Hum logo ny 70 salo ma itna loan ni lia jitna ...\n",
       "1   2  Us dor ke mushahir ke sath us ke gehre taluqat...\n",
       "2   3   Is ke ilawa ap ki nazmon, geeton aur ghazlon ...\n",
       "3   4                            Iss mein koi burai nahi\n",
       "4   5   Iss ke baad azadi ki jaddojehad mein congress..."
      ]
     },
     "execution_count": 5,
     "metadata": {},
     "output_type": "execute_result"
    }
   ],
   "source": [
    "df_test = pd.read_csv('./kesci/20190506_test.csv', lineterminator='\\n')\n",
    "print(len(df_test['review']))\n",
    "df_test.head()"
   ]
  },
  {
   "cell_type": "markdown",
   "metadata": {
    "pycharm": {}
   },
   "source": [
    "## 模型"
   ]
  },
  {
   "cell_type": "code",
   "execution_count": 6,
   "metadata": {
    "pycharm": {}
   },
   "outputs": [],
   "source": [
    "def load_data(type='train'):\n",
    "    \"\"\"\n",
    "    对数据进行处理：所有字符转为小写，标签转为 0 和 1 \n",
    "    \"\"\"\n",
    "    if type=='train':\n",
    "        data = [review.lower() for review in df['review']]  # 转小写\n",
    "        labels = [1 if label=='Positive' else 0 for label in df['label']]  # Positive转成1，Negative转成0\n",
    "        return data, labels\n",
    "    else:\n",
    "        data = [review.lower() for review in df_test['review']]\n",
    "        return data\n",
    "\n",
    "def train_tfidf(train_data):\n",
    "    \"\"\"\n",
    "    sklearn 中的 TFIDF 模型\n",
    "    \"\"\"\n",
    "    tfidf = TFIDF(min_df=5, max_features=5000, ngram_range=(1,3), use_idf=1, smooth_idf=1)  # 0.85030136\n",
    "    tfidf.fit(train_data)\n",
    "    return tfidf\n",
    "\n",
    "def train_SVC(data_vec, label):\n",
    "    \"\"\"\n",
    "    sklearn 中的 LinearSVC 模型\n",
    "    \"\"\"\n",
    "    SVC = LinearSVC()\n",
    "    clf = CalibratedClassifierCV(SVC) \n",
    "    clf.fit(data_vec, label)\n",
    "    return clf"
   ]
  },
  {
   "cell_type": "code",
   "execution_count": 7,
   "metadata": {
    "pycharm": {}
   },
   "outputs": [],
   "source": [
    "def train():\n",
    "    train_data, labels = load_data('train')  # 对数据进行处理：所有字符转为小写，标签转为 0 和 1 \n",
    "    \n",
    "    tfidf = train_tfidf(train_data)\n",
    "    train_vec = tfidf.transform(train_data)\n",
    "    model = train_SVC(train_vec, labels)\n",
    "    \n",
    "    print('model saving...')\n",
    "    joblib.dump(tfidf, 'SVCmodel/tfidf.model')\n",
    "    joblib.dump(model, 'SVCmodel/svc.model')\n",
    "\n",
    "def predict():\n",
    "    test_data = load_data('test')\n",
    "    print('load model...')\n",
    "    tfidf = joblib.load('SVCmodel/tfidf.model')\n",
    "    model = joblib.load('SVCmodel/svc.model')\n",
    "    print('predict...')\n",
    "    test_vec = tfidf.transform(test_data)\n",
    "    test_predict = model.predict_proba(test_vec)\n",
    "    return test_predict\n",
    "\n",
    "def train_no_save_model():\n",
    "    \"\"\"\n",
    "    train and predict (without saving model)\n",
    "    \"\"\"\n",
    "    train_data, labels = load_data('train')  # 对数据进行处理：所有字符转为小写，标签转为 0 和 1 \n",
    "    \n",
    "    tfidf = train_tfidf(train_data)\n",
    "    train_vec = tfidf.transform(train_data)\n",
    "    model = train_SVC(train_vec, labels)\n",
    "    \n",
    "    test_data = load_data('test')\n",
    "    test_vec = tfidf.transform(test_data)\n",
    "    test_predict = model.predict_proba(test_vec)\n",
    "    return test_predict"
   ]
  },
  {
   "cell_type": "code",
   "execution_count": 8,
   "metadata": {
    "pycharm": {}
   },
   "outputs": [
    {
     "name": "stdout",
     "output_type": "stream",
     "text": [
      "[[0.70528446 0.29471554]\n",
      " [0.27158667 0.72841333]\n",
      " [0.17670025 0.82329975]\n",
      " [0.6589864  0.3410136 ]\n",
      " [0.41008157 0.58991843]]\n"
     ]
    },
    {
     "name": "stderr",
     "output_type": "stream",
     "text": [
      "d:\\anaconda3\\envs\\envspy35\\lib\\site-packages\\sklearn\\model_selection\\_split.py:2053: FutureWarning: You should specify a value for 'cv' instead of relying on the default value. The default value will change from 3 to 5 in version 0.22.\n",
      "  warnings.warn(CV_WARNING, FutureWarning)\n"
     ]
    }
   ],
   "source": [
    "# train() \n",
    "# test_predict = predict() # 保存模型预测\n",
    "test_predict = train_no_save_model()\n",
    "test_predict_positive = [item[1] for item in test_predict]\n",
    "print(test_predict[:5])"
   ]
  },
  {
   "cell_type": "code",
   "execution_count": 9,
   "metadata": {
    "pycharm": {}
   },
   "outputs": [
    {
     "name": "stdout",
     "output_type": "stream",
     "text": [
      "Done\n"
     ]
    }
   ],
   "source": [
    "# 写入预测文件，提交结果\n",
    "test_ids = df_test['ID']\n",
    "Data = {'ID':test_ids, 'Pred':test_predict_positive}\n",
    "pd.DataFrame(Data, columns=['ID', 'Pred']).to_csv('test_pred_20190506.csv', header=True) #写入文件\n",
    "print('Done')"
   ]
  },
  {
   "cell_type": "code",
   "execution_count": null,
   "metadata": {
    "pycharm": {}
   },
   "outputs": [],
   "source": []
  },
  {
   "cell_type": "code",
   "execution_count": null,
   "metadata": {
    "pycharm": {}
   },
   "outputs": [],
   "source": []
  },
  {
   "cell_type": "code",
   "execution_count": null,
   "metadata": {
    "pycharm": {}
   },
   "outputs": [],
   "source": []
  }
 ],
 "metadata": {
  "kernelspec": {
   "display_name": "Python 3",
   "language": "python",
   "name": "python3"
  },
  "language_info": {
   "codemirror_mode": {
    "name": "ipython",
    "version": 3
   },
   "file_extension": ".py",
   "mimetype": "text/x-python",
   "name": "python",
   "nbconvert_exporter": "python",
   "pygments_lexer": "ipython3",
   "version": "3.5.5"
  }
 },
 "nbformat": 4,
 "nbformat_minor": 2
}
